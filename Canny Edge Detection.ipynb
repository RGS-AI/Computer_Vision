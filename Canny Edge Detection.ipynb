{
 "cells": [
  {
   "cell_type": "markdown",
   "id": "5b6f1c10-1a12-48ef-84a3-64a92c9ee62f",
   "metadata": {},
   "source": [
    "`Let's take a significant step forward by implementing edge detection using the Canny edge detection algorithm. Edge detection is a crucial technique in computer vision that helps identify the boundaries of objects within images.`\n",
    "\n",
    "### Step 1: Understanding Canny Edge Detection\n",
    "\n",
    "The Canny edge detection algorithm works in several steps:\n",
    "\n",
    "1. **Noise Reduction**: The image is smoothed using a Gaussian filter to reduce noise.\n",
    "2. **Gradient Calculation**: The algorithm calculates the intensity gradient of the image to find areas of high spatial derivatives.\n",
    "3. **Non-Maximum Suppression**: This step thins out the edges by keeping only the local maxima in the gradient image.\n",
    "4. **Double Thresholding**: The algorithm uses two thresholds to identify strong and weak edges.\n",
    "5. **Edge Tracking by Hysteresis**: Weak edges are connected to strong edges if they are connected, thus finalizing the edge map.\n",
    "\n",
    "### Step 2: Implementing Canny Edge Detection\n",
    "\n",
    "Let's extend our previous code to include Canny edge detection. Here’s how you can do it:\n",
    "\n",
    "1. **Read the image and convert it to grayscale** (as we did before).\n",
    "2. **Apply Canny edge detection**.\n",
    "3. **Display the original image, grayscale image, and the edge-detected image**."
   ]
  },
  {
   "cell_type": "code",
   "execution_count": null,
   "id": "eb31f342-59b8-4923-b26a-861a06b8711a",
   "metadata": {},
   "outputs": [],
   "source": [
    "# Complete Code with Canny Edge Detection\n",
    "\n",
    "import cv2\n",
    "import matplotlib.pyplot as plt\n",
    "\n",
    "# Read the image\n",
    "image = cv2.imread('image.jpg') # Assuming the image is is the same venv or dir of python file or use path name\n",
    "\n",
    "# Check if the image was loaded successfully\n",
    "if image is None:\n",
    "    print(\"Error: Could not read the image.\")\n",
    "    exit()\n",
    "\n",
    "# Convert the image to grayscale\n",
    "gray_image = cv2.cvtColor(image, cv2.COLOR_BGR2GRAY)\n",
    "\n",
    "# Apply Canny edge detection\n",
    "# The two parameters are the lower and upper thresholds for the hysteresis procedure\n",
    "edges = cv2.Canny(gray_image, 100, 200)\n",
    "\n",
    "# Display the original, grayscale, and edge-detected images\n",
    "plt.figure(figsize=(15, 5))\n",
    "\n",
    "# Original image\n",
    "plt.subplot(1, 3, 1)\n",
    "plt.imshow(cv2.cvtColor(image, cv2.COLOR_BGR2RGB))  # Convert BGR to RGB for displaying\n",
    "plt.title('Original Image')\n",
    "plt.axis('off')  # Hide axes\n",
    "\n",
    "# Grayscale image\n",
    "plt.subplot(1, 3, 2)\n",
    "plt.imshow(gray_image, cmap='gray')  # Display grayscale image\n",
    "plt.title('Grayscale Image')\n",
    "plt.axis('off')  # Hide axes\n",
    "\n",
    "# Edge-detected image\n",
    "plt.subplot(1, 3, 3)\n",
    "plt.imshow(edges, cmap='gray')  # Display edge-detected image\n",
    "plt.title('Canny Edge Detection')\n",
    "plt.axis('off')  # Hide axes\n",
    "\n",
    "# Show the images\n",
    "plt.show()"
   ]
  },
  {
   "cell_type": "markdown",
   "id": "b36501b4-55ff-4118-9dde-d5926f654c45",
   "metadata": {},
   "source": [
    "### Explanation of the New Code\n",
    "\n",
    "1. **Canny Edge Detection**:\n",
    "   - `edges = cv2.Canny(gray_image, 100, 200)` applies the Canny edge detection algorithm to the grayscale image. The parameters `100` and `200` are the lower and upper thresholds for edge detection. You can experiment with these values to see how they affect the results.\n",
    "\n",
    "2. **Displaying the Edge-Detected Image**:\n",
    "   - We added a third subplot to display the edge-detected image. The `imshow` function is used to show the edges in grayscale.\n",
    "\n",
    "### Step 3: Running the Code\n",
    "\n",
    "To run the updated code, make sure you have an image file (e.g., `image.jpg`) in the same directory as your Python script. Then execute the script.\n",
    "\n",
    "### Conclusion\n",
    "\n",
    "You have now implemented Canny edge detection in your computer vision project! This technique is widely used in various applications, such as object detection, image segmentation, and feature extraction. "
   ]
  },
  {
   "cell_type": "code",
   "execution_count": null,
   "id": "e4cf2b09-ce49-46b5-9b05-0f8f6106815e",
   "metadata": {},
   "outputs": [],
   "source": []
  }
 ],
 "metadata": {
  "kernelspec": {
   "display_name": "Python 3 (ipykernel)",
   "language": "python",
   "name": "python3"
  },
  "language_info": {
   "codemirror_mode": {
    "name": "ipython",
    "version": 3
   },
   "file_extension": ".py",
   "mimetype": "text/x-python",
   "name": "python",
   "nbconvert_exporter": "python",
   "pygments_lexer": "ipython3",
   "version": "3.12.4"
  }
 },
 "nbformat": 4,
 "nbformat_minor": 5
}
