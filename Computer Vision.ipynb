{
 "cells": [
  {
   "cell_type": "markdown",
   "id": "bfa78501-7a8a-49c1-a0d8-77b16991cbfd",
   "metadata": {},
   "source": [
    "# Introduction to Computer Vision\n",
    "### In this tutorial we will see the basic python code for image reading using opencv library. This will be the first baby step towards CV in Machine Learning."
   ]
  },
  {
   "cell_type": "markdown",
   "id": "b655319e-41b0-4705-a223-b9a3ca3d6639",
   "metadata": {},
   "source": [
    "### Step 1: Setting Up Your Environment\n",
    "\n",
    "Before we start coding, you need to set up your environment. Make sure you have Python installed on your computer. You can download it from [python.org](https://www.python.org/downloads/).\n",
    "\n",
    "Next, you need to install OpenCV. You can do this using pip, which is a package manager for Python. Open your command prompt or terminal and run the following command:\n",
    "```\n",
    "pip install opencv\n",
    "```"
   ]
  },
  {
   "cell_type": "markdown",
   "id": "f8c28c9b-85b7-4973-9220-a09b82a98531",
   "metadata": {},
   "source": [
    "### Step 2: Importing Libraries\n",
    "\n",
    "Now, let's start coding. Open your favorite code editor or IDE (like VSCode, PyCharm, or even a simple text editor) and create a new Python file, for example, `image_processing.py`.\n",
    "\n",
    "At the top of your file, you need to import the necessary libraries:"
   ]
  },
  {
   "cell_type": "code",
   "execution_count": null,
   "id": "bc279de7-c016-4846-9648-dd52caf6f789",
   "metadata": {},
   "outputs": [],
   "source": [
    "import cv2\n",
    "import matplotlib.pyplot as plt"
   ]
  },
  {
   "cell_type": "markdown",
   "id": "09eb0a7a-a71c-4de5-be6e-e27004136f26",
   "metadata": {
    "jupyter": {
     "source_hidden": true
    }
   },
   "source": [
    "- `cv2` is the OpenCV library that we will use for image processing.\n",
    "- `matplotlib.pyplot` is a library for plotting graphs and images."
   ]
  },
  {
   "cell_type": "markdown",
   "id": "dbae8e8f-fa7f-4a6b-bc95-b1c80e945f5c",
   "metadata": {},
   "source": [
    "### Step 3: Reading an Image\n",
    "\n",
    "Next, we will read an image from our computer. Make sure you have an image file (e.g., `image.jpg`) in the same directory as your Python script.\n",
    "\n",
    "Add the following code to read the image:"
   ]
  },
  {
   "cell_type": "code",
   "execution_count": null,
   "id": "a678cc61-8d0f-4c53-9ae5-35ee9982b5fa",
   "metadata": {},
   "outputs": [],
   "source": [
    "# Read the image\n",
    "image = cv2.imread('image.jpg')\n",
    "\n",
    "# Check if the image was loaded successfully\n",
    "if image is None:\n",
    "    print(\"Error: Could not read the image.\")\n",
    "    exit()"
   ]
  },
  {
   "cell_type": "markdown",
   "id": "01163d87-4e38-4bb3-bc1d-780f33cde85b",
   "metadata": {},
   "source": [
    "- `cv2.imread('image.jpg')` reads the image file and stores it in the variable `image`.\n",
    "- We check if the image was loaded successfully. If not, we print an error message and exit the program."
   ]
  },
  {
   "cell_type": "markdown",
   "id": "d3eee8b9-8523-490a-a875-f7ffa845c736",
   "metadata": {},
   "source": [
    "### Step 4: Converting to Grayscale\n",
    "\n",
    "Now, let's convert the image to grayscale. This is a common preprocessing step in computer vision.\n",
    "\n",
    "Add the following code:"
   ]
  },
  {
   "cell_type": "code",
   "execution_count": null,
   "id": "cfe56f6e-67bf-4b79-8f36-4b929ca030f6",
   "metadata": {},
   "outputs": [],
   "source": [
    "# Convert the image to grayscale\n",
    "gray_image = cv2.cvtColor(image, cv2.COLOR_BGR2GRAY)"
   ]
  },
  {
   "cell_type": "markdown",
   "id": "174b7ae9-2dd1-43da-aaf4-be2fbe3ba14a",
   "metadata": {},
   "source": [
    "- `cv2.cvtColor(image, cv2.COLOR_BGR2GRAY)` converts the original image from BGR (Blue, Green, Red) color space to grayscale."
   ]
  },
  {
   "cell_type": "markdown",
   "id": "2c5b055e-22f1-4dea-9270-a14c7f4b8271",
   "metadata": {},
   "source": [
    "### Step 5: Displaying the Images\n",
    "\n",
    "Finally, we will display both the original and the grayscale images using Matplotlib.\n",
    "\n",
    "Add the following code:"
   ]
  },
  {
   "cell_type": "code",
   "execution_count": null,
   "id": "c7669b17-56bd-4356-830f-7647b9112714",
   "metadata": {},
   "outputs": [],
   "source": [
    "# Display the original and grayscale images\n",
    "plt.figure(figsize=(10, 5))"
   ]
  },
  {
   "cell_type": "code",
   "execution_count": null,
   "id": "727ad7eb-140b-470c-b934-1dd4d2fdb3f5",
   "metadata": {},
   "outputs": [],
   "source": [
    "# Original image\n",
    "plt.subplot(1, 2, 1)\n",
    "plt.imshow(cv2.cvtColor(image, cv2.COLOR_BGR2RGB))  # Convert BGR to RGB for displaying\n",
    "plt.title('Original Image')\n",
    "plt.axis('off')  # Hide axes"
   ]
  },
  {
   "cell_type": "code",
   "execution_count": null,
   "id": "3afb97a4-fa75-4464-b5a2-97ab320a4bbc",
   "metadata": {},
   "outputs": [],
   "source": [
    "# Grayscale image\n",
    "plt.subplot(1, 2, 2)\n",
    "plt.imshow(gray_image, cmap='gray')  # Display grayscale image\n",
    "plt.title('Grayscale Image')\n",
    "plt.axis('off')  # Hide axes"
   ]
  },
  {
   "cell_type": "code",
   "execution_count": null,
   "id": "3c05a57f-538d-4c68-acb5-d0518f0d2b3a",
   "metadata": {},
   "outputs": [],
   "source": [
    "# Show the images\n",
    "plt.show()"
   ]
  },
  {
   "cell_type": "markdown",
   "id": "57062637-d02f-4209-b6ca-4b917eaa9a40",
   "metadata": {},
   "source": [
    "- `plt.figure(figsize=(10, 5))` creates a new figure for plotting with a specified size.\n",
    "- `plt.subplot(1, 2, 1)` creates a subplot for the original image (1 row, 2 columns, 1st subplot).\n",
    "- `plt.imshow(cv2.cvtColor(image, cv2.COLOR_BGR2RGB))` displays the original image. We convert it to RGB because OpenCV uses BGR by default.\n",
    "- `plt.title('Original Image')` sets the title for the original image subplot.\n",
    "- `plt.axis('off')` hides the axes for a cleaner look.\n",
    "- The same steps are repeated for the grayscale image, but we use `cmap='gray'` to display it in grayscale.\n",
    "- Finally, `plt.show()` displays the images."
   ]
  },
  {
   "cell_type": "markdown",
   "id": "249f99c9-a8c3-41c4-8559-7b09b3b75bf9",
   "metadata": {},
   "source": [
    "### Complete Code\n",
    "\n",
    "Here’s the complete code for your project:\n",
    "\n",
    "```python\n",
    "import cv2\n",
    "import matplotlib.pyplot as plt\n",
    "\n",
    "# Read the image\n",
    "image = cv2.imread('image.jpg')\n",
    "\n",
    "# Check if the image was loaded successfully\n",
    "if image is None:\n",
    "    print(\"Error: Could not read the image.\")\n",
    "    exit()\n",
    "\n",
    "# Convert the image to grayscale\n",
    "gray_image = cv2.cvtColor(image, cv2.COLOR_BGR2GRAY)\n",
    "\n",
    "# Display the original and grayscale images\n",
    "plt.figure(figsize=(10, 5))\n",
    "\n",
    "# Original image\n",
    "plt.subplot(1, 2, 1)\n",
    "plt.imshow(cv2.cvtColor(image, cv2.COLOR_BGR2RGB))  # Convert BGR to RGB for displaying\n",
    "plt.title('Original Image')\n",
    "plt.axis('off')  # Hide axes\n",
    "\n",
    "# Grayscale image\n",
    "plt.subplot(1, 2, 2)\n",
    "plt.imshow(gray_image, cmap='gray')  # Display grayscale image\n",
    "plt.title('Grayscale Image')\n",
    "plt.axis('off')  # Hide axes\n",
    "\n",
    "# Show the images\n",
    "plt.show()\n",
    "```\n",
    "\n",
    "### Conclusion\n",
    "\n",
    "Congratulations! You have created a simple computer vision project that reads an image, converts it to grayscale, and displays both the original and grayscale images. This is a foundational step in many computer vision applications, and you can build upon this knowledge to explore more advanced techniques like edge detection, object detection, and image segmentation."
   ]
  },
  {
   "cell_type": "markdown",
   "id": "c1e97f79-b2b2-43e5-881c-6bbd31596dde",
   "metadata": {},
   "source": [
    "### - RMS"
   ]
  }
 ],
 "metadata": {
  "kernelspec": {
   "display_name": "Python 3 (ipykernel)",
   "language": "python",
   "name": "python3"
  },
  "language_info": {
   "codemirror_mode": {
    "name": "ipython",
    "version": 3
   },
   "file_extension": ".py",
   "mimetype": "text/x-python",
   "name": "python",
   "nbconvert_exporter": "python",
   "pygments_lexer": "ipython3",
   "version": "3.12.4"
  }
 },
 "nbformat": 4,
 "nbformat_minor": 5
}
